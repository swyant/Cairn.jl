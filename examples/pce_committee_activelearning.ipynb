{
 "cells": [
  {
   "cell_type": "code",
   "execution_count": null,
   "metadata": {},
   "outputs": [],
   "source": [
    "using Revise\n",
    "using Pkg; Pkg.activate(\"..\")"
   ]
  },
  {
   "cell_type": "code",
   "execution_count": null,
   "metadata": {},
   "outputs": [],
   "source": [
    "using Cairn\n",
    "using LinearAlgebra, Random, Statistics, StatsBase # Do need StatsBase this time\n",
    "using PotentialLearning\n",
    "using Molly, AtomsCalculators\n",
    "using AtomisticQoIs\n",
    "using SpecialPolynomials"
   ]
  },
  {
   "cell_type": "markdown",
   "metadata": {},
   "source": [
    "Reference Potential and Domain"
   ]
  },
  {
   "cell_type": "code",
   "execution_count": null,
   "metadata": {},
   "outputs": [],
   "source": [
    "ref = MullerBrownRot()\n",
    "limits = [[-4.5,1.5],[-2.0,2.0]]"
   ]
  },
  {
   "cell_type": "markdown",
   "metadata": {},
   "source": [
    "Stuff for Plotting"
   ]
  },
  {
   "cell_type": "code",
   "execution_count": null,
   "metadata": {},
   "outputs": [],
   "source": [
    "using CairoMakie\n",
    "\n",
    "coord_grid = coord_grid_2d(limits,0.05)\n",
    "ctr_lvls = -150:50:1000\n",
    "include(\"../src/makie/makie.jl\")"
   ]
  },
  {
   "cell_type": "markdown",
   "metadata": {},
   "source": [
    "Obtaining Training Data from MD run "
   ]
  },
  {
   "cell_type": "code",
   "execution_count": null,
   "metadata": {},
   "outputs": [],
   "source": [
    "sim_langevin = OverdampedLangevin(\n",
    "                dt =0.002u\"ps\",\n",
    "                temperature = 200.0u\"K\",\n",
    "                friction=4.0u\"ps^-1\"\n",
    ")\n",
    "start_sys = System(ref,[0.5,0.5], loggers=(coords=CoordinateLogger(100;dims=2),\n",
    "                                           pe=PotentialEnergyLogger(100),\n",
    "                                           forces=ForceLogger(100;dims=2)))"
   ]
  },
  {
   "cell_type": "code",
   "execution_count": null,
   "metadata": {},
   "outputs": [],
   "source": [
    "ref_sys = deepcopy(start_sys)\n",
    "simulate!(ref_sys, sim_langevin, 1_000_000)\n",
    "\n",
    "initial_num_train = 5000\n",
    "id = StatsBase.sample(1:length(ref_sys.loggers.coords.history), initial_num_train, replace=false)\n",
    "train_coords = [ref_sys.loggers.coords.history[i][1] for i in id]\n",
    "md_trainset = Ensemble(ref,train_coords)"
   ]
  },
  {
   "cell_type": "code",
   "execution_count": null,
   "metadata": {},
   "outputs": [],
   "source": [
    "function plot_pe(system,simulator)\n",
    "    pe_logger_freq = system.loggers.pe.n_steps\n",
    "    pe_timestep_freq = ustrip(pe_logger_freq*simulator.dt*1000) # convert to fs\n",
    "\n",
    "    #I think timesteps start with 0, but I should probably actuallly check\n",
    "    pe_data = ustrip.(system.loggers.pe.history[:])\n",
    "    timesteps = 0:pe_timestep_freq:(length(pe_data)-1)*pe_timestep_freq\n",
    "\n",
    "    pe_fig = Figure(size=(1200,400))\n",
    "    pe_ax = Axis(pe_fig[1,1],\n",
    "                 xlabel=\"Timestep (fs)\",\n",
    "                 ylabel=\"PE (kJ*mol^-1)\")\n",
    "\n",
    "    scatterlines!(pe_ax,timesteps,pe_data,\n",
    "                  linewidth=0.1,\n",
    "                  markersize=3.25)\n",
    "    pe_fig, pe_data\n",
    "end\n",
    "\n",
    "pe_f, pe_data = plot_pe(ref_sys,sim_langevin)\n",
    "pe_f"
   ]
  },
  {
   "cell_type": "code",
   "execution_count": null,
   "metadata": {},
   "outputs": [],
   "source": [
    "println(\"Maximum energy: $(maximum(pe_data))\\n\\\n",
    "         Minimum energy: $(minimum(pe_data))\\n\\\n",
    "         Mean energy   : $(mean(pe_data))\")"
   ]
  },
  {
   "cell_type": "code",
   "execution_count": null,
   "metadata": {},
   "outputs": [],
   "source": [
    "function plot_max_abs_forces(system,simulator)\n",
    "    force_logger_freq = system.loggers.forces.n_steps\n",
    "    force_timestep_freq = ustrip(force_logger_freq*simulator.dt*1000)\n",
    "    max_force_data = [maximum(abs.(atom_forces[1])) for atom_forces in system.loggers.forces.history]\n",
    "    timesteps =0:force_timestep_freq:(length(max_force_data)-1)*force_timestep_freq\n",
    "\n",
    "    forces_fig = Figure(size=(1200,400))\n",
    "    forces_ax = Axis(forces_fig[1,1],\n",
    "                     xlabel=\"Timestep (fs)\",\n",
    "                     ylabel=\"Maximum force components\")\n",
    "\n",
    "    scatterlines!(forces_ax,timesteps,max_force_data,\n",
    "                  linewidth=0.1,\n",
    "                  markersize=3.25)\n",
    "\n",
    "    forces_fig, max_force_data\n",
    "end\n",
    "\n",
    "forces_f, max_force_data = plot_max_abs_forces(ref_sys,sim_langevin)\n",
    "forces_f"
   ]
  },
  {
   "cell_type": "code",
   "execution_count": null,
   "metadata": {},
   "outputs": [],
   "source": [
    "println(\"Maximum force component           : $(maximum(max_force_data))\\n\\\n",
    "        Min (per-step max) force component : $(minimum(max_force_data))\\n\\\n",
    "        Mean (per-step max) force component: $(mean(max_force_data))\")"
   ]
  },
  {
   "cell_type": "code",
   "execution_count": null,
   "metadata": {},
   "outputs": [],
   "source": [
    "f, ax = plot_contours_2d(ref, coord_grid; fill=true, lvls=ctr_lvls)\n",
    "coordmat = reduce(hcat, [get_values(crd) for crd in train_coords])'\n",
    "scatter!(ax, coordmat[:,1], coordmat[:,2], color=:red, markersize=5, label=\"MD train set\")\n",
    "axislegend(ax)\n",
    "f"
   ]
  },
  {
   "cell_type": "markdown",
   "metadata": {},
   "source": [
    "Set up and train driving PCE that you are trying to improve"
   ]
  },
  {
   "cell_type": "code",
   "execution_count": null,
   "metadata": {},
   "outputs": [],
   "source": [
    "basisfam = Jacobi{0.5,0.5}\n",
    "order=20\n",
    "pce0 = PolynomialChaos(order,2,basisfam,xscl=limits)"
   ]
  },
  {
   "cell_type": "code",
   "execution_count": null,
   "metadata": {},
   "outputs": [],
   "source": [
    "default_ilp = InefficientLearningProblem(;ref=ref)\n",
    "initial_pce = learn(default_ilp,pce0,md_trainset)"
   ]
  },
  {
   "cell_type": "markdown",
   "metadata": {},
   "source": [
    "Set up proxy committee potential with lower quality PCE's as well as the committee QoIs"
   ]
  },
  {
   "cell_type": "code",
   "execution_count": null,
   "metadata": {},
   "outputs": [],
   "source": [
    "order_lq = 10\n",
    "pce_lq = PolynomialChaos(order_lq,2,basisfam,xscl=limits)\n",
    "cmte_pot = CommitteePotential([let\n",
    "                                  pce = deepcopy(pce_lq)\n",
    "                               end for _ in 1:10],1;\n",
    "                              energy_units = u\"kJ*mol^-1\",\n",
    "                              length_units = u\"nm\")\n",
    "\n",
    "clp = SubsampleAppendCmteRetrain(InefficientLearningProblem(;ref=ref),\n",
    "                                 [[-1] for _ in 1:10])\n",
    "\n",
    "cmte_pot = learn!(clp, cmte_pot,md_trainset;frac=0.7)"
   ]
  },
  {
   "cell_type": "code",
   "execution_count": null,
   "metadata": {},
   "outputs": [],
   "source": [
    "energy_std = CmteEnergy(Statistics.std; strip_units=true)\n",
    "\n",
    "mean_std_fcomp = CmteFlatForces((cmte=Statistics.std,\n",
    "                                 coord_and_atom=Statistics.mean); strip_units=true)"
   ]
  },
  {
   "cell_type": "code",
   "execution_count": null,
   "metadata": {},
   "outputs": [],
   "source": [
    "function append_loggers(system::Molly.System, new_loggers::NamedTuple)\n",
    "    old_keys = keys(system.loggers)\n",
    "    old_values = values(system.loggers)\n",
    "\n",
    "    new_keys = keys(new_loggers)\n",
    "    new_values = values(new_loggers)\n",
    "\n",
    "    full_keys = (old_keys...,new_keys...)\n",
    "    full_values = (old_values...,new_values...)\n",
    "\n",
    "    return NamedTuple{full_keys}(full_values)\n",
    "end"
   ]
  },
  {
   "cell_type": "markdown",
   "metadata": {},
   "source": [
    "Set up trial MD to get sense of committee potential thresholds, repeated the MD many times since it quickly becomes unstable, tried to get a gist of where the cmte std for energy and force components spike"
   ]
  },
  {
   "cell_type": "code",
   "execution_count": null,
   "metadata": {},
   "outputs": [],
   "source": [
    "begin\n",
    "local energy_std_computer(sys,neighbors; kwargs...) = compute(energy_std,sys,cmte_pot)\n",
    "energy_std_logger = GeneralObservableLogger(energy_std_computer,\n",
    "                                            Float64,\n",
    "                                            1)\n",
    "\n",
    "local mean_std_fcomp_computer(sys,neighbors; kwargs...) = compute(mean_std_fcomp,sys,cmte_pot)\n",
    "mean_std_fcomp_logger = GeneralObservableLogger(mean_std_fcomp_computer,\n",
    "                                                Float64,\n",
    "                                                1)\n",
    "trial_sys = System(initial_pce,[0.5,0.5];loggers=(coords=CoordinateLogger(1;dims=2),\n",
    "                                                  pe=PotentialEnergyLogger(1),\n",
    "                                                  forces=ForceLogger(1;dims=2),\n",
    "                                                  energy_std=energy_std_logger,\n",
    "                                                  mean_std_fcomp=mean_std_fcomp_logger,\n",
    "                                                  ))\n",
    "end"
   ]
  },
  {
   "cell_type": "code",
   "execution_count": null,
   "metadata": {},
   "outputs": [],
   "source": [
    "simulate!(trial_sys,sim_langevin,50)"
   ]
  },
  {
   "cell_type": "code",
   "execution_count": null,
   "metadata": {},
   "outputs": [],
   "source": [
    "f, ax = plot_contours_2d(ref, coord_grid; fill=true, lvls=ctr_lvls)\n",
    "trial_coords = [coords[1] for coords in trial_sys.loggers.coords.history]\n",
    "coordmat = reduce(hcat, [get_values(crd) for crd in trial_coords])'\n",
    "scatter!(ax, coordmat[:,1], coordmat[:,2], color=:red, markersize=5, label=\"MD train set\")\n",
    "axislegend(ax)\n",
    "f"
   ]
  },
  {
   "cell_type": "markdown",
   "metadata": {},
   "source": []
  },
  {
   "cell_type": "code",
   "execution_count": null,
   "metadata": {},
   "outputs": [],
   "source": [
    "begin\n",
    "    system = trial_sys\n",
    "    simulator = sim_langevin\n",
    "    pe_logger_freq = system.loggers.pe.n_steps\n",
    "    pe_timestep_freq = ustrip(pe_logger_freq*simulator.dt*1000) # convert to fs\n",
    "\n",
    "    #pe_data = ustrip.(abs.(system.loggers.pe.history[1:8]))\n",
    "    #pe_data = ustrip.(system.loggers.pe.history[1:19])\n",
    "    pe_data = ustrip.(system.loggers.pe.history)\n",
    "    timesteps = 0:pe_timestep_freq:(length(pe_data)-1)*pe_timestep_freq\n",
    "\n",
    "    pe_fig = Figure(size=(1200,400))\n",
    "    pe_ax = Axis(pe_fig[1,1],\n",
    "                 xlabel=\"Timestep (fs)\",\n",
    "                 ylabel=\"PE (kJ*mol^-1)\",\n",
    "                 limits=(nothing,(-115.0,-102.0))\n",
    "                 #yscale=log10)\n",
    "                 )\n",
    "\n",
    "    scatterlines!(pe_ax,timesteps,pe_data,\n",
    "                  linewidth=1,\n",
    "                  markersize=10)\n",
    "    pe_fig\n",
    "end"
   ]
  },
  {
   "cell_type": "code",
   "execution_count": null,
   "metadata": {},
   "outputs": [],
   "source": [
    "logger_freq = trial_sys.loggers.energy_std.n_steps\n",
    "timestep_freq = ustrip(logger_freq*sim_langevin.dt*1000)\n",
    "\n",
    "#cmte_data = system.loggers.energy_std.history[1:19]\n",
    "cmte_data = system.loggers.energy_std.history\n",
    "timesteps = 0:timestep_freq:(length(cmte_data)-1)*timestep_freq\n",
    "\n",
    "cmte_qoi_fig = Figure(size=(1200,400))\n",
    "cmte_ax = Axis(cmte_qoi_fig[1,1],\n",
    "                xlabel=\"Timestep (fs)\",\n",
    "                ylabel=\"Energy Std(kJ*mol^-1)\",\n",
    "                limits=(nothing,(0.0,4.0)))\n",
    "\n",
    "scatterlines!(cmte_ax,timesteps,cmte_data,\n",
    "              linewidth=1,\n",
    "              markersize=10)\n",
    "cmte_qoi_fig"
   ]
  },
  {
   "cell_type": "code",
   "execution_count": null,
   "metadata": {},
   "outputs": [],
   "source": [
    "logger_freq = trial_sys.loggers.mean_std_fcomp.n_steps\n",
    "timestep_freq = ustrip(logger_freq*sim_langevin.dt*1000)\n",
    "\n",
    "#cmte_data = system.loggers.mean_std_fcomp.history[1:17]\n",
    "cmte_data = system.loggers.mean_std_fcomp.history\n",
    "timesteps = 0:timestep_freq:(length(cmte_data)-1)*timestep_freq\n",
    "\n",
    "cmte_qoi_fig = Figure(size=(1200,400))\n",
    "cmte_ax = Axis(cmte_qoi_fig[1,1],\n",
    "                xlabel=\"Timestep (fs)\",\n",
    "                ylabel=\"Energy Std(kJ*mol^-1)\",\n",
    "                limits=(nothing,(0.0,400.0)))\n",
    "\n",
    "scatterlines!(cmte_ax,timesteps,cmte_data,\n",
    "              linewidth=1,\n",
    "              markersize=10)\n",
    "cmte_qoi_fig"
   ]
  },
  {
   "cell_type": "code",
   "execution_count": null,
   "metadata": {},
   "outputs": [],
   "source": [
    "subtrigger1 = CmteTrigger(energy_std, >, 1.0;\n",
    "                          logger_spec=(:cmte_energy_std,1))\n",
    "subtrigger2 = CmteTrigger(mean_std_fcomp,>,100.0;\n",
    "                          logger_spec=(:cmte_mean_std_fcomp,1))\n",
    "sct = SharedCmteTrigger((subtrigger1,subtrigger2),deepcopy(cmte_pot))"
   ]
  },
  {
   "cell_type": "code",
   "execution_count": null,
   "metadata": {},
   "outputs": [],
   "source": [
    "coords_eval = potential_grid_2d(ref,[[-4.4,1.5],[-2,2]],0.04,cutoff=800)\n",
    "sys_eval = Ensemble(ref,coords_eval)\n",
    "ζ = [ustrip.(Vector(coords)) for coords in coords_eval]\n",
    "GQint = GaussQuadrature(ζ,ones(length(ζ)) ./length(ζ))\n",
    "error_spec = Simple2DPotErrors(GQint,true)\n",
    "dataspec = DefaultALDataSpec(error_spec,true,true,true,true)"
   ]
  },
  {
   "cell_type": "code",
   "execution_count": null,
   "metadata": {},
   "outputs": [],
   "source": [
    "main_mlip = deepcopy(initial_pce)\n",
    "full_alroutine = ALRoutine(;ref=ref,\n",
    "                          mlip=main_mlip,\n",
    "                          trainset=deepcopy(md_trainset),\n",
    "                          triggers=(sct,),\n",
    "                          ss=GreedySelector(),\n",
    "                          lp=InefficientLearningProblem(;ref=ref),\n",
    "                          trigger_updates=(deepcopy(clp),),\n",
    "                          sim_update=nothing,\n",
    "                          aldata_spec=dataspec)"
   ]
  },
  {
   "cell_type": "code",
   "execution_count": null,
   "metadata": {},
   "outputs": [],
   "source": [
    "# Nothing enforces that alroutine.mlip == System.general_inters[1], though that should be the case\n",
    "main_sys = System(main_mlip, [0.5,0.5];\n",
    "                  loggers=(coords=CoordinateLogger(1;dims=2),\n",
    "                           pe=PotentialEnergyLogger(1),\n",
    "                           forces=ForceLogger(1;dims=2))\n",
    "                  )\n",
    "\n",
    "main_sim = OverdampedLangevin(dt =0.001u\"ps\",\n",
    "                              temperature = 200.0u\"K\",\n",
    "                              friction=4.0u\"ps^-1\"\n",
    "                             )"
   ]
  },
  {
   "cell_type": "code",
   "execution_count": null,
   "metadata": {},
   "outputs": [],
   "source": [
    "aldata, post_sys = active_learn!(main_sys,main_sim,100, full_alroutine)"
   ]
  },
  {
   "cell_type": "markdown",
   "metadata": {},
   "source": [
    "It would be difficult to do multiple active_learn!() routines in a for loop, I think because of the initialization. Maybe pass a flag if system has already been initialized"
   ]
  }
 ],
 "metadata": {
  "language_info": {
   "name": "julia"
  }
 },
 "nbformat": 4,
 "nbformat_minor": 2
}
